{
 "cells": [
  {
   "cell_type": "code",
   "execution_count": 10,
   "metadata": {},
   "outputs": [
    {
     "data": {
      "text/plain": [
       "'{\"detail\":\"Authentication credentials were not provided.\"}'"
      ]
     },
     "execution_count": 10,
     "metadata": {},
     "output_type": "execute_result"
    }
   ],
   "source": [
    "import requests\n",
    "response  = requests.get(\"http://127.0.0.1:8000/get_data_nodes\")\n",
    "response.text"
   ]
  },
  {
   "cell_type": "code",
   "execution_count": 1,
   "metadata": {},
   "outputs": [
    {
     "data": {
      "text/plain": [
       "'[{\"model\": \"node.nodes_model\", \"pk\": 20, \"fields\": {\"machine\": \"frige\", \"location\": \"Pune\", \"sub_location\": \"hadapsar\", \"humidity\": \"12\", \"CO2\": \"21\", \"CO2_low\": \"10\", \"CO2_high\": \"21\", \"tempreture\": \"15\", \"tempreture_low\": \"10\", \"tempreture_high\": \"20\", \"humidity_high\": \"20\", \"humidity_low\": \"10\", \"battery\": \"15\", \"user_name\": \"admin\", \"user_id\": \"1\", \"delete_status\": \"0\", \"uuid\": \"TP_link\", \"time\": \"12:02:14.923921\", \"date\": \"2023-01-06\", \"updated_at\": \"2023-01-06T23:43:03.368407+05:30\"}}]'"
      ]
     },
     "execution_count": 1,
     "metadata": {},
     "output_type": "execute_result"
    }
   ],
   "source": [
    "import requests\n",
    "response  = requests.get(\"http://127.0.0.1:8000/all_data/\")\n",
    "response.text"
   ]
  },
  {
   "cell_type": "code",
   "execution_count": 51,
   "metadata": {},
   "outputs": [],
   "source": [
    "payload = {\n",
    "      \"machine\": \"Donald Duck\",\n",
    "      \"location\": \"Duckburg\",\n",
    "      \"sub_location\": \"Donald Duck\",\n",
    "      \"humidity\": \"Duckburg\",\n",
    "      \"tempreture\": \"Donald Duck\",\n",
    "      \"tempreture_low\": \"Duckburg\",\n",
    "      \"tempreture_high\": \"Donald Duck\",\n",
    "      \"battery\": \"Duckburg\",\n",
    "      \"user_name\": \"Donald Duck\",\n",
    "      \"user_id\": \"Duckburg\",\n",
    "      \"user_name\": \"Donald Duck\",\n",
    "      \"delete_status\": \"Duckburg\",\n",
    "    }"
   ]
  },
  {
   "cell_type": "code",
   "execution_count": 60,
   "metadata": {},
   "outputs": [
    {
     "data": {
      "text/plain": [
       "<Response [201]>"
      ]
     },
     "execution_count": 60,
     "metadata": {},
     "output_type": "execute_result"
    }
   ],
   "source": [
    "import requests\n",
    "response  = requests.post(\"http://127.0.0.1:8000/post_data_nodes\" ,json = payload)\n",
    "response"
   ]
  },
  {
   "cell_type": "code",
   "execution_count": 2,
   "metadata": {},
   "outputs": [
    {
     "data": {
      "text/plain": [
       "204"
      ]
     },
     "execution_count": 2,
     "metadata": {},
     "output_type": "execute_result"
    }
   ],
   "source": [
    "response  = requests.delete(\"http://127.0.0.1:8000/delete_data_nodes/7\")\n",
    "response.status_code"
   ]
  },
  {
   "cell_type": "code",
   "execution_count": 13,
   "metadata": {},
   "outputs": [],
   "source": [
    "payload = {\n",
    "\n",
    "    \"humidity\": \"0\",\n",
    "    \"tempreture\": \"1\",\n",
    "    \"battery\": \"2\",\n",
    "    \"CO2\": \"3\",\n",
    "    \"user_name\": \"admin\",\n",
    "    \"uuid\": \"link_uuid\"\n",
    "\n",
    "   }"
   ]
  },
  {
   "cell_type": "code",
   "execution_count": 1,
   "metadata": {},
   "outputs": [],
   "source": [
    "data1 = {\n",
    "\n",
    "    \"humidity\": \"12\",\n",
    "    \"tempreture\": \"15\",\n",
    "    \"battery\": \"15\",\n",
    "    \"CO2\": \"21\",\n",
    "    \"user_name\": \"admin\",\n",
    "    \"uuid\": \"TP_link_3\"\n",
    "\n",
    "   }"
   ]
  },
  {
   "cell_type": "code",
   "execution_count": 4,
   "metadata": {},
   "outputs": [
    {
     "data": {
      "text/plain": [
       "200"
      ]
     },
     "execution_count": 4,
     "metadata": {},
     "output_type": "execute_result"
    }
   ],
   "source": [
    "import requests\n",
    "response  = requests.post(\"http://127.0.0.1:8000/create_node/\" ,json = {\"humidity\": \"2\",\"tempreture\": \"15\",\"battery\": \"15\",\"CO2\": \"19\",\"user_name\": \"admin\",\"uuid\": \"TP-link\"})\n",
    "response.status_code"
   ]
  },
  {
   "cell_type": "code",
   "execution_count": 9,
   "metadata": {},
   "outputs": [
    {
     "data": {
      "text/plain": [
       "'2023-3-1'"
      ]
     },
     "execution_count": 9,
     "metadata": {},
     "output_type": "execute_result"
    }
   ],
   "source": [
    "from datetime import datetime\n",
    "str(datetime.now().year) + \"-\" + str(datetime.now().month)  + \"-1\""
   ]
  },
  {
   "cell_type": "code",
   "execution_count": 17,
   "metadata": {},
   "outputs": [
    {
     "name": "stdout",
     "output_type": "stream",
     "text": [
      "2023-3-25\n",
      "2023-3-24\n",
      "2023-3-23\n",
      "2023-3-22\n",
      "2023-3-21\n",
      "2023-3-20\n",
      "2023-3-19\n"
     ]
    }
   ],
   "source": [
    "for i in range(0,7) :\n",
    "    print(str(datetime.now().year) + \"-\" +  str(datetime.now().month) +\"-\"+ str(int(datetime.now().day) - i)) "
   ]
  },
  {
   "cell_type": "code",
   "execution_count": null,
   "metadata": {},
   "outputs": [],
   "source": []
  }
 ],
 "metadata": {
  "kernelspec": {
   "display_name": "Python 3.9.13 64-bit (microsoft store)",
   "language": "python",
   "name": "python3"
  },
  "language_info": {
   "codemirror_mode": {
    "name": "ipython",
    "version": 3
   },
   "file_extension": ".py",
   "mimetype": "text/x-python",
   "name": "python",
   "nbconvert_exporter": "python",
   "pygments_lexer": "ipython3",
   "version": "3.9.13"
  },
  "orig_nbformat": 4,
  "vscode": {
   "interpreter": {
    "hash": "a9b1268a7dbb4bbd941678d98c4f953900514677676171da056edf4885bdfb44"
   }
  }
 },
 "nbformat": 4,
 "nbformat_minor": 2
}
