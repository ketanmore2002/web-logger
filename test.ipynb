{
 "cells": [
  {
   "cell_type": "code",
   "execution_count": 10,
   "metadata": {},
   "outputs": [
    {
     "data": {
      "text/plain": [
       "'{\"detail\":\"Authentication credentials were not provided.\"}'"
      ]
     },
     "execution_count": 10,
     "metadata": {},
     "output_type": "execute_result"
    }
   ],
   "source": [
    "import requests\n",
    "response  = requests.get(\"http://127.0.0.1:8000/get_data_nodes\")\n",
    "response.text"
   ]
  },
  {
   "cell_type": "code",
   "execution_count": 1,
   "metadata": {},
   "outputs": [
    {
     "data": {
      "text/plain": [
       "'[{\"model\": \"node.nodes_model\", \"pk\": 20, \"fields\": {\"machine\": \"frige\", \"location\": \"Pune\", \"sub_location\": \"hadapsar\", \"humidity\": \"12\", \"CO2\": \"21\", \"CO2_low\": \"10\", \"CO2_high\": \"21\", \"tempreture\": \"15\", \"tempreture_low\": \"10\", \"tempreture_high\": \"20\", \"humidity_high\": \"20\", \"humidity_low\": \"10\", \"battery\": \"15\", \"user_name\": \"admin\", \"user_id\": \"1\", \"delete_status\": \"0\", \"uuid\": \"TP_link\", \"time\": \"12:02:14.923921\", \"date\": \"2023-01-06\", \"updated_at\": \"2023-01-06T23:43:03.368407+05:30\"}}]'"
      ]
     },
     "execution_count": 1,
     "metadata": {},
     "output_type": "execute_result"
    }
   ],
   "source": [
    "import requests\n",
    "response  = requests.get(\"http://127.0.0.1:8000/all_data/\")\n",
    "response.text"
   ]
  },
  {
   "cell_type": "code",
   "execution_count": 51,
   "metadata": {},
   "outputs": [],
   "source": [
    "payload = {\n",
    "      \"machine\": \"Donald Duck\",\n",
    "      \"location\": \"Duckburg\",\n",
    "      \"sub_location\": \"Donald Duck\",\n",
    "      \"humidity\": \"Duckburg\",\n",
    "      \"tempreture\": \"Donald Duck\",\n",
    "      \"tempreture_low\": \"Duckburg\",\n",
    "      \"tempreture_high\": \"Donald Duck\",\n",
    "      \"battery\": \"Duckburg\",\n",
    "      \"user_name\": \"Donald Duck\",\n",
    "      \"user_id\": \"Duckburg\",\n",
    "      \"user_name\": \"Donald Duck\",\n",
    "      \"delete_status\": \"Duckburg\",\n",
    "    }"
   ]
  },
  {
   "cell_type": "code",
   "execution_count": 60,
   "metadata": {},
   "outputs": [
    {
     "data": {
      "text/plain": [
       "<Response [201]>"
      ]
     },
     "execution_count": 60,
     "metadata": {},
     "output_type": "execute_result"
    }
   ],
   "source": [
    "import requests\n",
    "response  = requests.post(\"http://127.0.0.1:8000/post_data_nodes\" ,json = payload)\n",
    "response"
   ]
  },
  {
   "cell_type": "code",
   "execution_count": 2,
   "metadata": {},
   "outputs": [
    {
     "data": {
      "text/plain": [
       "204"
      ]
     },
     "execution_count": 2,
     "metadata": {},
     "output_type": "execute_result"
    }
   ],
   "source": [
    "response  = requests.delete(\"http://127.0.0.1:8000/delete_data_nodes/7\")\n",
    "response.status_code"
   ]
  },
  {
   "cell_type": "code",
   "execution_count": 13,
   "metadata": {},
   "outputs": [],
   "source": [
    "payload = {\n",
    "\n",
    "    \"humidity\": \"0\",\n",
    "    \"tempreture\": \"1\",\n",
    "    \"battery\": \"2\",\n",
    "    \"CO2\": \"3\",\n",
    "    \"user_name\": \"admin\",\n",
    "    \"uuid\": \"link_uuid\"\n",
    "\n",
    "   }"
   ]
  },
  {
   "cell_type": "code",
   "execution_count": 1,
   "metadata": {},
   "outputs": [],
   "source": [
    "data1 = {\n",
    "\n",
    "    \"humidity\": \"12\",\n",
    "    \"tempreture\": \"15\",\n",
    "    \"battery\": \"15\",\n",
    "    \"CO2\": \"21\",\n",
    "    \"user_name\": \"admin\",\n",
    "    \"uuid\": \"TP_link_3\"\n",
    "\n",
    "   }"
   ]
  },
  {
   "cell_type": "code",
   "execution_count": 4,
   "metadata": {},
   "outputs": [
    {
     "data": {
      "text/plain": [
       "200"
      ]
     },
     "execution_count": 4,
     "metadata": {},
     "output_type": "execute_result"
    }
   ],
   "source": [
    "import requests\n",
    "response  = requests.post(\"http://127.0.0.1:8000/create_node/\" ,json = {\"humidity\": \"2\",\"tempreture\": \"15\",\"battery\": \"15\",\"CO2\": \"19\",\"user_name\": \"admin\",\"uuid\": \"TP-link\"})\n",
    "response.status_code"
   ]
  },
  {
   "cell_type": "code",
   "execution_count": 9,
   "metadata": {},
   "outputs": [
    {
     "data": {
      "text/plain": [
       "'2023-3-1'"
      ]
     },
     "execution_count": 9,
     "metadata": {},
     "output_type": "execute_result"
    }
   ],
   "source": [
    "from datetime import datetime\n",
    "str(datetime.now().year) + \"-\" + str(datetime.now().month)  + \"-1\""
   ]
  },
  {
   "cell_type": "code",
   "execution_count": 17,
   "metadata": {},
   "outputs": [
    {
     "name": "stdout",
     "output_type": "stream",
     "text": [
      "2023-3-25\n",
      "2023-3-24\n",
      "2023-3-23\n",
      "2023-3-22\n",
      "2023-3-21\n",
      "2023-3-20\n",
      "2023-3-19\n"
     ]
    }
   ],
   "source": [
    "for i in range(0,7) :\n",
    "    print(str(datetime.now().year) + \"-\" +  str(datetime.now().month) +\"-\"+ str(int(datetime.now().day) - i)) "
   ]
  },
  {
   "cell_type": "code",
   "execution_count": 1,
   "metadata": {},
   "outputs": [],
   "source": [
    "import pandas as pd"
   ]
  },
  {
   "cell_type": "code",
   "execution_count": 2,
   "metadata": {},
   "outputs": [],
   "source": [
    "df = pd.read_csv(\"post_nodes-2023-06-07.csv\")"
   ]
  },
  {
   "cell_type": "code",
   "execution_count": 3,
   "metadata": {},
   "outputs": [
    {
     "data": {
      "text/html": [
       "<div>\n",
       "<style scoped>\n",
       "    .dataframe tbody tr th:only-of-type {\n",
       "        vertical-align: middle;\n",
       "    }\n",
       "\n",
       "    .dataframe tbody tr th {\n",
       "        vertical-align: top;\n",
       "    }\n",
       "\n",
       "    .dataframe thead th {\n",
       "        text-align: right;\n",
       "    }\n",
       "</style>\n",
       "<table border=\"1\" class=\"dataframe\">\n",
       "  <thead>\n",
       "    <tr style=\"text-align: right;\">\n",
       "      <th></th>\n",
       "      <th>id</th>\n",
       "      <th>uuid</th>\n",
       "      <th>user_name</th>\n",
       "      <th>battery</th>\n",
       "      <th>faulty</th>\n",
       "      <th>time</th>\n",
       "      <th>date</th>\n",
       "      <th>updated_at</th>\n",
       "      <th>power</th>\n",
       "      <th>current</th>\n",
       "      <th>voltage</th>\n",
       "      <th>generator_speed</th>\n",
       "      <th>windspeed</th>\n",
       "    </tr>\n",
       "  </thead>\n",
       "  <tbody>\n",
       "    <tr>\n",
       "      <th>0</th>\n",
       "      <td>12663</td>\n",
       "      <td>GSM</td>\n",
       "      <td>admin</td>\n",
       "      <td>20</td>\n",
       "      <td>True</td>\n",
       "      <td>16:30:16</td>\n",
       "      <td>2023-06-07</td>\n",
       "      <td>2023-06-07 16:30:16</td>\n",
       "      <td>60</td>\n",
       "      <td>407.0</td>\n",
       "      <td>30</td>\n",
       "      <td>40</td>\n",
       "      <td>20</td>\n",
       "    </tr>\n",
       "    <tr>\n",
       "      <th>1</th>\n",
       "      <td>12662</td>\n",
       "      <td>GSM</td>\n",
       "      <td>admin</td>\n",
       "      <td>20</td>\n",
       "      <td>True</td>\n",
       "      <td>16:29:59</td>\n",
       "      <td>2023-06-07</td>\n",
       "      <td>2023-06-07 16:29:59</td>\n",
       "      <td>60</td>\n",
       "      <td>406.0</td>\n",
       "      <td>30</td>\n",
       "      <td>40</td>\n",
       "      <td>20</td>\n",
       "    </tr>\n",
       "    <tr>\n",
       "      <th>2</th>\n",
       "      <td>12661</td>\n",
       "      <td>GSM</td>\n",
       "      <td>admin</td>\n",
       "      <td>20</td>\n",
       "      <td>True</td>\n",
       "      <td>16:29:41</td>\n",
       "      <td>2023-06-07</td>\n",
       "      <td>2023-06-07 16:29:41</td>\n",
       "      <td>60</td>\n",
       "      <td>405.0</td>\n",
       "      <td>30</td>\n",
       "      <td>40</td>\n",
       "      <td>20</td>\n",
       "    </tr>\n",
       "    <tr>\n",
       "      <th>3</th>\n",
       "      <td>12660</td>\n",
       "      <td>GSM</td>\n",
       "      <td>admin</td>\n",
       "      <td>20</td>\n",
       "      <td>True</td>\n",
       "      <td>16:29:23</td>\n",
       "      <td>2023-06-07</td>\n",
       "      <td>2023-06-07 16:29:23</td>\n",
       "      <td>60</td>\n",
       "      <td>404.0</td>\n",
       "      <td>30</td>\n",
       "      <td>40</td>\n",
       "      <td>20</td>\n",
       "    </tr>\n",
       "    <tr>\n",
       "      <th>4</th>\n",
       "      <td>12659</td>\n",
       "      <td>GSM</td>\n",
       "      <td>admin</td>\n",
       "      <td>20</td>\n",
       "      <td>True</td>\n",
       "      <td>16:29:06</td>\n",
       "      <td>2023-06-07</td>\n",
       "      <td>2023-06-07 16:29:06</td>\n",
       "      <td>60</td>\n",
       "      <td>403.0</td>\n",
       "      <td>30</td>\n",
       "      <td>40</td>\n",
       "      <td>20</td>\n",
       "    </tr>\n",
       "  </tbody>\n",
       "</table>\n",
       "</div>"
      ],
      "text/plain": [
       "      id uuid user_name  battery  faulty      time        date   \n",
       "0  12663  GSM     admin       20    True  16:30:16  2023-06-07  \\\n",
       "1  12662  GSM     admin       20    True  16:29:59  2023-06-07   \n",
       "2  12661  GSM     admin       20    True  16:29:41  2023-06-07   \n",
       "3  12660  GSM     admin       20    True  16:29:23  2023-06-07   \n",
       "4  12659  GSM     admin       20    True  16:29:06  2023-06-07   \n",
       "\n",
       "            updated_at  power  current  voltage  generator_speed  windspeed  \n",
       "0  2023-06-07 16:30:16     60    407.0       30               40         20  \n",
       "1  2023-06-07 16:29:59     60    406.0       30               40         20  \n",
       "2  2023-06-07 16:29:41     60    405.0       30               40         20  \n",
       "3  2023-06-07 16:29:23     60    404.0       30               40         20  \n",
       "4  2023-06-07 16:29:06     60    403.0       30               40         20  "
      ]
     },
     "execution_count": 3,
     "metadata": {},
     "output_type": "execute_result"
    }
   ],
   "source": [
    "df.head()"
   ]
  },
  {
   "cell_type": "code",
   "execution_count": 11,
   "metadata": {},
   "outputs": [
    {
     "data": {
      "text/plain": [
       "id                 0\n",
       "uuid               0\n",
       "user_name          0\n",
       "battery            0\n",
       "faulty             0\n",
       "time               0\n",
       "date               0\n",
       "updated_at         0\n",
       "power              0\n",
       "current            0\n",
       "voltage            0\n",
       "generator_speed    0\n",
       "windspeed          0\n",
       "dtype: int64"
      ]
     },
     "execution_count": 11,
     "metadata": {},
     "output_type": "execute_result"
    }
   ],
   "source": [
    "df.isna().sum()"
   ]
  },
  {
   "cell_type": "code",
   "execution_count": 14,
   "metadata": {},
   "outputs": [
    {
     "data": {
      "text/plain": [
       "id                   int64\n",
       "uuid                object\n",
       "user_name           object\n",
       "battery              int64\n",
       "faulty                bool\n",
       "time                object\n",
       "date                object\n",
       "updated_at          object\n",
       "power                int64\n",
       "current            float64\n",
       "voltage              int64\n",
       "generator_speed      int64\n",
       "windspeed            int64\n",
       "dtype: object"
      ]
     },
     "execution_count": 14,
     "metadata": {},
     "output_type": "execute_result"
    }
   ],
   "source": [
    "df.loc(df)"
   ]
  },
  {
   "cell_type": "code",
   "execution_count": 4,
   "metadata": {},
   "outputs": [],
   "source": [
    "import requests\n",
    "import random\n",
    "\n",
    "\n",
    "for i in range(10) :\n",
    "    response  = requests.post(\"http://127.0.0.1:8000/create_node/\" ,json = {\"topic\" :\"django/mqtt\",\"current\": random.randint(0, 99) ,\"voltage\": random.randint(0, 99),\"battery\": random.randint(0, 99),\"generator_speed\": random.randint(0, 99),\"user_name\": \"admin\",\"uuid\": \"TP-link\" , \"windspeed\": random.randint(0, 99) , \"power\": random.randint(0, 99)})\n",
    "    if response.status_code != 201 :\n",
    "        print(i , response.status_code)\n",
    "        break\n",
    "    else:\n",
    "        continue\n"
   ]
  },
  {
   "cell_type": "code",
   "execution_count": 3,
   "metadata": {},
   "outputs": [
    {
     "name": "stdout",
     "output_type": "stream",
     "text": [
      "0 404\n"
     ]
    }
   ],
   "source": [
    "import requests\n",
    "import random\n",
    "\n",
    "\n",
    "for i in range(9) :\n",
    "    response  = requests.post(\"http://127.0.0.1:8000/create_node/\" ,json = {\"topic\" :\"django/mqtt\", \"windspeed\": random.randint(0, 99), \"uuid\": \"TP-link\"})\n",
    "    if response.status_code != 201 :\n",
    "        print(i , response.status_code)\n",
    "        break\n",
    "    else:\n",
    "        continue"
   ]
  },
  {
   "cell_type": "code",
   "execution_count": 3,
   "metadata": {},
   "outputs": [
    {
     "data": {
      "text/plain": [
       "97"
      ]
     },
     "execution_count": 3,
     "metadata": {},
     "output_type": "execute_result"
    }
   ],
   "source": [
    "import random\n",
    "\n",
    "random.randint(0, 100)"
   ]
  },
  {
   "cell_type": "code",
   "execution_count": 20,
   "metadata": {},
   "outputs": [
    {
     "data": {
      "text/plain": [
       "200"
      ]
     },
     "execution_count": 20,
     "metadata": {},
     "output_type": "execute_result"
    }
   ],
   "source": [
    "response  = requests.post(\"http://127.0.0.1:8000/create_node/\" ,json = {\"topic\" :\"django/mqtt\",\"current\": random.randint(0, 99) ,\"voltage\": random.randint(0, 99),\"battery\": random.randint(0, 99),\"generator_speed\": random.randint(0, 99),\"user_name\": \"admin\",\"uuid\": \"TP-link\" , \"windspeed\": random.randint(0, 99) , \"power\": random.randint(0, 99)})\n",
    "response.status_code"
   ]
  },
  {
   "cell_type": "code",
   "execution_count": 18,
   "metadata": {},
   "outputs": [
    {
     "name": "stdout",
     "output_type": "stream",
     "text": [
      "{'humidity': 85, 'tempreture': 38, 'battery': 39, 'CO2': 61, 'user_name': 'admin', 'uuid': 'TP-link'}\n"
     ]
    }
   ],
   "source": [
    "print({\"humidity\": random.randint(0, 99) ,\"tempreture\": random.randint(0, 99),\"battery\": random.randint(0, 99),\"CO2\": random.randint(0, 99),\"user_name\": \"admin\",\"uuid\": \"TP-link\"})"
   ]
  },
  {
   "cell_type": "code",
   "execution_count": 65,
   "metadata": {},
   "outputs": [],
   "source": [
    "import requests\n",
    "import random\n",
    "blank = []\n",
    "for i in range(10) :\n",
    "    num = str(random.randint(0, 1000000))\n",
    "    json = { \"firstName\" : str(\"Ketan-\" + num), \"lastName\" : str(\"More-\" + num), \"phoneNumber\" : 9860289599, \"emailId\" : num + \"-moreketan2002@gmail.com\" }\n",
    "    response  = requests.post(\"https://bfhldevapigw.healthrx.co.in/automation-campus/create/user\",headers={\"roll-number\":\"2064191913017\"} ,json = json)\n",
    "    x = response.json()\n",
    "    if (x[\"is_success\"]) == True :\n",
    "        blank.append(json)\n",
    "        "
   ]
  },
  {
   "cell_type": "code",
   "execution_count": 66,
   "metadata": {},
   "outputs": [],
   "source": [
    "import pandas as pd\n",
    "df = pd.DataFrame(blank)\n",
    "df.to_csv(\"file_name.csv\")"
   ]
  },
  {
   "cell_type": "code",
   "execution_count": 3,
   "metadata": {},
   "outputs": [
    {
     "data": {
      "text/plain": [
       "200"
      ]
     },
     "execution_count": 3,
     "metadata": {},
     "output_type": "execute_result"
    }
   ],
   "source": [
    "import requests\n",
    "response  = requests.get(\"https://www.google.com/search?q=how+to+scrape+emails+from+linkedin+using+python&sxsrf=APwXEdfxv3tueKmq8rFwdCCpKWKqQz_R6g%3A1686629808567&ei=sO2HZMuVIoncseMP-JGcoAc&oq=how+to+scrape+emails+from+linkedin+using+&gs_lcp=Cgxnd3Mtd2l6LXNlcnAQAxgAMgUIABCABDIGCAAQFhAeMgYIABAWEB4yBggAEBYQHjIGCAAQFhAeMgYIABAWEB4yBggAEBYQHjIGCAAQFhAeMgYIABAWEB4yBggAEBYQHjoKCAAQRxDWBBCwAzoQCC4QigUQxwEQ0QMQsAMQQzoICAAQigUQhgNKBAhBGABQ6gNYwh5gkCpoAXABeACAAf4BiAG4DZIBAzItN5gBAKABAcABAcgBCQ&sclient=gws-wiz-serp\")\n",
    "response.status_code\n"
   ]
  },
  {
   "cell_type": "code",
   "execution_count": null,
   "metadata": {},
   "outputs": [],
   "source": []
  }
 ],
 "metadata": {
  "kernelspec": {
   "display_name": "Python 3.9.13 64-bit (microsoft store)",
   "language": "python",
   "name": "python3"
  },
  "language_info": {
   "codemirror_mode": {
    "name": "ipython",
    "version": 3
   },
   "file_extension": ".py",
   "mimetype": "text/x-python",
   "name": "python",
   "nbconvert_exporter": "python",
   "pygments_lexer": "ipython3",
   "version": "3.10.9"
  },
  "orig_nbformat": 4,
  "vscode": {
   "interpreter": {
    "hash": "a9b1268a7dbb4bbd941678d98c4f953900514677676171da056edf4885bdfb44"
   }
  }
 },
 "nbformat": 4,
 "nbformat_minor": 2
}
